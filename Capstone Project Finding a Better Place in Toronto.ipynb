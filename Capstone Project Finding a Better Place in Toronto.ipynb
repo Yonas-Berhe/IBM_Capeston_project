{
 "cells": [
  {
   "cell_type": "code",
   "execution_count": 2,
   "metadata": {},
   "outputs": [
    {
     "name": "stdout",
     "output_type": "stream",
     "text": [
      "All libraries imported\n"
     ]
    }
   ],
   "source": [
    "from bs4 import BeautifulSoup\n",
    "import pandas as pd\n",
    "import requests\n",
    "from geopy.geocoders import Nominatim\n",
    "import folium\n",
    "from sklearn.cluster import KMeans\n",
    "from IPython.display import HTML\n",
    "import base64  \n",
    "import pandas as pd \n",
    "from sklearn import preprocessing\n",
    "import numpy as np\n",
    "from sklearn.model_selection import train_test_split\n",
    "from sklearn.metrics import accuracy_score, jaccard_similarity_score, f1_score, classification_report\n",
    "from sklearn.neighbors import KNeighborsClassifier\n",
    "import random as r\n",
    "import matplotlib.pyplot as plt\n",
    "from sklearn.model_selection import cross_val_score\n",
    "\n",
    "print('All libraries imported')"
   ]
  },
  {
   "cell_type": "code",
   "execution_count": 3,
   "metadata": {},
   "outputs": [],
   "source": [
    "# Download link function\n",
    "\n",
    "def create_download_link( df, title = \"Download CSV file\", filename = \"data.csv\"):  \n",
    "    csv = df.to_csv(index =False)\n",
    "    b64 = base64.b64encode(csv.encode())\n",
    "    payload = b64.decode()\n",
    "    html = '<a download=\"{filename}\" href=\"data:text/csv;base64,{payload}\" target=\"_blank\">{title}</a>'\n",
    "    html = html.format(payload=payload,title=title,filename=filename)\n",
    "    return HTML(html)"
   ]
  },
  {
   "cell_type": "code",
   "execution_count": 4,
   "metadata": {},
   "outputs": [],
   "source": [
    "\n",
    "#Get Latitude and longitude values of Neighborhood\n",
    "def getCoordinates(neigh):\n",
    "    address = '{}, Toronto'.format(neigh)\n",
    "    geolocator = Nominatim(user_agent=\"t_explorer\")\n",
    "    latLong = geolocator.geocode(address)\n",
    "    latLong = [latLong.latitude, latLong.longitude]\n",
    "    return latLong"
   ]
  },
  {
   "cell_type": "code",
   "execution_count": 5,
   "metadata": {},
   "outputs": [],
   "source": [
    "#Function to get URL for each neighborhood (explore)\n",
    "\n",
    "LIMIT = 200 # limit of number of venues returned by Foursquare API\n",
    "radius = 1000 # Radius of Search\n",
    "\n",
    "def getURL(lat, long):\n",
    "\n",
    "    url = 'https://api.foursquare.com/v2/venues/explore?&client_id={}&client_secret={}&v={}&ll={},{}&radius={}&limit={}'.format(\n",
    "        CLIENT_ID, \n",
    "        CLIENT_SECRET, \n",
    "        VERSION, \n",
    "        lat, \n",
    "        long, \n",
    "        radius, \n",
    "        LIMIT)\n",
    "    return url"
   ]
  },
  {
   "cell_type": "code",
   "execution_count": 6,
   "metadata": {},
   "outputs": [],
   "source": [
    "#function to generate random colors\n",
    "def randomColor():\n",
    "    colorArr = ['00','11','22','33','44','55','66','77','88','99','AA','BB','CC','DD','EE','FF']\n",
    "    color = '#' + colorArr[r.randint(0,15)] + colorArr[r.randint(0,15)] + colorArr[r.randint(0,15)]\n",
    "    return color"
   ]
  },
  {
   "cell_type": "markdown",
   "metadata": {},
   "source": [
    "## Get toronto neighborhood data from wikipedia"
   ]
  },
  {
   "cell_type": "code",
   "execution_count": 7,
   "metadata": {},
   "outputs": [],
   "source": [
    "\n",
    "#Link of wikipedia Pages for Toronto Postal codes\n",
    "URL = \"https://en.wikipedia.org/wiki/List_of_postal_codes_of_Canada:_M\"\n",
    "webpage = requests.get(URL)"
   ]
  },
  {
   "cell_type": "code",
   "execution_count": 8,
   "metadata": {},
   "outputs": [],
   "source": [
    "\n",
    "#Covert page to BeautifulSoup Object and extract the table\n",
    "soup = BeautifulSoup(webpage.content, 'html5lib') \n",
    "table = soup.find('tbody')"
   ]
  },
  {
   "cell_type": "code",
   "execution_count": 9,
   "metadata": {},
   "outputs": [
    {
     "data": {
      "text/html": [
       "<div>\n",
       "<style scoped>\n",
       "    .dataframe tbody tr th:only-of-type {\n",
       "        vertical-align: middle;\n",
       "    }\n",
       "\n",
       "    .dataframe tbody tr th {\n",
       "        vertical-align: top;\n",
       "    }\n",
       "\n",
       "    .dataframe thead th {\n",
       "        text-align: right;\n",
       "    }\n",
       "</style>\n",
       "<table border=\"1\" class=\"dataframe\">\n",
       "  <thead>\n",
       "    <tr style=\"text-align: right;\">\n",
       "      <th></th>\n",
       "      <th>Postal_Code</th>\n",
       "      <th>Borough</th>\n",
       "      <th>Neighborhood</th>\n",
       "    </tr>\n",
       "  </thead>\n",
       "  <tbody>\n",
       "    <tr>\n",
       "      <th>0</th>\n",
       "      <td>M3A</td>\n",
       "      <td>North York</td>\n",
       "      <td>Parkwoods</td>\n",
       "    </tr>\n",
       "    <tr>\n",
       "      <th>1</th>\n",
       "      <td>M4A</td>\n",
       "      <td>North York</td>\n",
       "      <td>Victoria Village</td>\n",
       "    </tr>\n",
       "    <tr>\n",
       "      <th>2</th>\n",
       "      <td>M5A</td>\n",
       "      <td>Downtown Toronto</td>\n",
       "      <td>Regent Park, Harbourfront</td>\n",
       "    </tr>\n",
       "    <tr>\n",
       "      <th>3</th>\n",
       "      <td>M6A</td>\n",
       "      <td>North York</td>\n",
       "      <td>Lawrence Manor, Lawrence Heights</td>\n",
       "    </tr>\n",
       "    <tr>\n",
       "      <th>4</th>\n",
       "      <td>M7A</td>\n",
       "      <td>Downtown Toronto</td>\n",
       "      <td>Queen's Park, Ontario Provincial Government</td>\n",
       "    </tr>\n",
       "  </tbody>\n",
       "</table>\n",
       "</div>"
      ],
      "text/plain": [
       "  Postal_Code           Borough                                 Neighborhood\n",
       "0         M3A        North York                                    Parkwoods\n",
       "1         M4A        North York                             Victoria Village\n",
       "2         M5A  Downtown Toronto                    Regent Park, Harbourfront\n",
       "3         M6A        North York             Lawrence Manor, Lawrence Heights\n",
       "4         M7A  Downtown Toronto  Queen's Park, Ontario Provincial Government"
      ]
     },
     "metadata": {},
     "output_type": "display_data"
    },
    {
     "name": "stdout",
     "output_type": "stream",
     "text": [
      "Shape :  (103, 3)\n"
     ]
    }
   ],
   "source": [
    "#Load table data to a dataframe\n",
    "postalArr = []\n",
    "boroughArr = []\n",
    "hoodArr = []\n",
    "\n",
    "for ind, row in enumerate(table.findAll('tr')):\n",
    "    if (ind == 0):\n",
    "        continue\n",
    "    else:\n",
    "        postalArr.append(row.findChildren()[0].text[:-1])\n",
    "        boroughArr.append(row.findChildren()[1].text[:-1])\n",
    "        hoodArr.append(row.findChildren()[2].text[:-1])\n",
    "\n",
    "torontoDict = {'Postal_Code':postalArr, 'Borough':boroughArr, 'Neighborhood':hoodArr}\n",
    "df = pd.DataFrame(torontoDict)\n",
    "\n",
    "#Clean the dataframe\n",
    "df = df[df['Borough'] != 'Not assigned'].reset_index(drop = True)\n",
    "\n",
    "#Dataframe from wikipedia Table is created\n",
    "display(df.head())\n",
    "print('Shape : ',df.shape)"
   ]
  },
  {
   "cell_type": "code",
   "execution_count": 10,
   "metadata": {},
   "outputs": [
    {
     "data": {
      "text/html": [
       "<div>\n",
       "<style scoped>\n",
       "    .dataframe tbody tr th:only-of-type {\n",
       "        vertical-align: middle;\n",
       "    }\n",
       "\n",
       "    .dataframe tbody tr th {\n",
       "        vertical-align: top;\n",
       "    }\n",
       "\n",
       "    .dataframe thead th {\n",
       "        text-align: right;\n",
       "    }\n",
       "</style>\n",
       "<table border=\"1\" class=\"dataframe\">\n",
       "  <thead>\n",
       "    <tr style=\"text-align: right;\">\n",
       "      <th></th>\n",
       "      <th>Postal_Code</th>\n",
       "      <th>Borough</th>\n",
       "      <th>Neighborhood</th>\n",
       "    </tr>\n",
       "  </thead>\n",
       "  <tbody>\n",
       "    <tr>\n",
       "      <th>0</th>\n",
       "      <td>M1S</td>\n",
       "      <td>Scarborough</td>\n",
       "      <td>Agincourt</td>\n",
       "    </tr>\n",
       "    <tr>\n",
       "      <th>1</th>\n",
       "      <td>M8W</td>\n",
       "      <td>Etobicoke</td>\n",
       "      <td>Alderwood, Long Branch</td>\n",
       "    </tr>\n",
       "    <tr>\n",
       "      <th>2</th>\n",
       "      <td>M3H</td>\n",
       "      <td>North York</td>\n",
       "      <td>Bathurst Manor, Wilson Heights, Downsview North</td>\n",
       "    </tr>\n",
       "    <tr>\n",
       "      <th>3</th>\n",
       "      <td>M2K</td>\n",
       "      <td>North York</td>\n",
       "      <td>Bayview Village</td>\n",
       "    </tr>\n",
       "    <tr>\n",
       "      <th>4</th>\n",
       "      <td>M5M</td>\n",
       "      <td>North York</td>\n",
       "      <td>Bedford Park, Lawrence Manor East</td>\n",
       "    </tr>\n",
       "  </tbody>\n",
       "</table>\n",
       "</div>"
      ],
      "text/plain": [
       "  Postal_Code      Borough                                     Neighborhood\n",
       "0         M1S  Scarborough                                        Agincourt\n",
       "1         M8W    Etobicoke                           Alderwood, Long Branch\n",
       "2         M3H   North York  Bathurst Manor, Wilson Heights, Downsview North\n",
       "3         M2K   North York                                  Bayview Village\n",
       "4         M5M   North York                Bedford Park, Lawrence Manor East"
      ]
     },
     "metadata": {},
     "output_type": "display_data"
    },
    {
     "name": "stdout",
     "output_type": "stream",
     "text": [
      "(99, 3)\n"
     ]
    }
   ],
   "source": [
    "\n",
    "#This dataframe splits all the Neighborhood\n",
    "df2 = pd.DataFrame(columns=['Postal_Code', 'Borough', 'Neighborhood'])\n",
    "\n",
    "for i in range(len(df)):\n",
    "    postal_code = df.loc[i,'Postal_Code']\n",
    "    borough = df.loc[i,'Borough']\n",
    "    hoodlist = df.loc[i,'Neighborhood']\n",
    "    \n",
    "    for j in hoodlist.split('/'):\n",
    "        df2 = df2.append({'Postal_Code': postal_code, 'Borough': borough, 'Neighborhood': j.strip()}, ignore_index=True)\n",
    "\n",
    "df2 = df2.drop_duplicates(subset =\"Neighborhood\", keep = 'first')\n",
    "df2 = df2.sort_values('Neighborhood').reset_index(drop=True)\n",
    "\n",
    "display(df2.head())\n",
    "print(df2.shape)\n",
    "\n",
    "#Dataframe df2 is created\n",
    "#Dataframe is cleaned and sorted"
   ]
  },
  {
   "cell_type": "code",
   "execution_count": 11,
   "metadata": {},
   "outputs": [
    {
     "name": "stdout",
     "output_type": "stream",
     "text": [
      "1 2 3 4 5 6 7 8 9 10 11 12 13 14 15 16 17 18 19 20 21 22 23 24 25 26 27 28 29 30 31 32 33 34 35 36 37 38 39 40 41 42 43 44 45 46 47 48 49 50 51 52 53 54 55 56 57 58 59 60 61 62 63 64 65 66 67 68 69 70 71 72 73 74 75 76 77 78 79 80 81 82 83 84 85 86 87 88 89 90 91 92 93 94 95 96 97 98 99 "
     ]
    }
   ],
   "source": [
    "#get location coordinates of neighborhoods\n",
    "\n",
    "lat_arr = []\n",
    "long_arr = []\n",
    "i = 0\n",
    "\n",
    "for neigh in df2['Neighborhood']:\n",
    "    latLong = [None, None]\n",
    "    try:\n",
    "        latLong = getCoordinates(neigh)\n",
    "    except:\n",
    "        pass\n",
    "    lat_arr.append(latLong[0])\n",
    "    long_arr.append(latLong[1])\n",
    "    i += 1\n",
    "    print(i, end= \" \")\n",
    "    \n",
    "df2['Latitude'] = lat_arr\n",
    "df2['Longitude'] = long_arr"
   ]
  },
  {
   "cell_type": "code",
   "execution_count": 12,
   "metadata": {},
   "outputs": [
    {
     "data": {
      "text/html": [
       "<div>\n",
       "<style scoped>\n",
       "    .dataframe tbody tr th:only-of-type {\n",
       "        vertical-align: middle;\n",
       "    }\n",
       "\n",
       "    .dataframe tbody tr th {\n",
       "        vertical-align: top;\n",
       "    }\n",
       "\n",
       "    .dataframe thead th {\n",
       "        text-align: right;\n",
       "    }\n",
       "</style>\n",
       "<table border=\"1\" class=\"dataframe\">\n",
       "  <thead>\n",
       "    <tr style=\"text-align: right;\">\n",
       "      <th></th>\n",
       "      <th>Postal_Code</th>\n",
       "      <th>Borough</th>\n",
       "      <th>Neighborhood</th>\n",
       "      <th>Latitude</th>\n",
       "      <th>Longitude</th>\n",
       "    </tr>\n",
       "  </thead>\n",
       "  <tbody>\n",
       "    <tr>\n",
       "      <th>0</th>\n",
       "      <td>M1S</td>\n",
       "      <td>Scarborough</td>\n",
       "      <td>Agincourt</td>\n",
       "      <td>43.785353</td>\n",
       "      <td>-79.278549</td>\n",
       "    </tr>\n",
       "    <tr>\n",
       "      <th>1</th>\n",
       "      <td>M8W</td>\n",
       "      <td>Etobicoke</td>\n",
       "      <td>Alderwood, Long Branch</td>\n",
       "      <td>43.601717</td>\n",
       "      <td>-79.545232</td>\n",
       "    </tr>\n",
       "    <tr>\n",
       "      <th>2</th>\n",
       "      <td>M2K</td>\n",
       "      <td>North York</td>\n",
       "      <td>Bayview Village</td>\n",
       "      <td>43.769197</td>\n",
       "      <td>-79.376662</td>\n",
       "    </tr>\n",
       "    <tr>\n",
       "      <th>3</th>\n",
       "      <td>M5E</td>\n",
       "      <td>Downtown Toronto</td>\n",
       "      <td>Berczy Park</td>\n",
       "      <td>43.647984</td>\n",
       "      <td>-79.375396</td>\n",
       "    </tr>\n",
       "    <tr>\n",
       "      <th>4</th>\n",
       "      <td>M1H</td>\n",
       "      <td>Scarborough</td>\n",
       "      <td>Cedarbrae</td>\n",
       "      <td>43.756467</td>\n",
       "      <td>-79.226692</td>\n",
       "    </tr>\n",
       "  </tbody>\n",
       "</table>\n",
       "</div>"
      ],
      "text/plain": [
       "  Postal_Code           Borough            Neighborhood   Latitude  Longitude\n",
       "0         M1S       Scarborough               Agincourt  43.785353 -79.278549\n",
       "1         M8W         Etobicoke  Alderwood, Long Branch  43.601717 -79.545232\n",
       "2         M2K        North York         Bayview Village  43.769197 -79.376662\n",
       "3         M5E  Downtown Toronto             Berczy Park  43.647984 -79.375396\n",
       "4         M1H       Scarborough               Cedarbrae  43.756467 -79.226692"
      ]
     },
     "metadata": {},
     "output_type": "display_data"
    },
    {
     "name": "stdout",
     "output_type": "stream",
     "text": [
      "Shape (49, 5)\n"
     ]
    }
   ],
   "source": [
    "#drop non existing and duplicate latitude and longitude containing rows\n",
    "df2 = df2.dropna()\n",
    "df2 = df2.drop_duplicates(subset =\"Latitude\", keep = 'first')\n",
    "df2 = df2.drop_duplicates(subset =\"Longitude\", keep = 'first').reset_index(drop = True)\n",
    "\n",
    "display(df2.head())\n",
    "print('Shape', df2.shape)"
   ]
  },
  {
   "cell_type": "code",
   "execution_count": 13,
   "metadata": {},
   "outputs": [
    {
     "name": "stdout",
     "output_type": "stream",
     "text": [
      "[43.6534817, -79.3839347]\n"
     ]
    }
   ],
   "source": [
    "#Get Latitude and longitude values of Toronto\n",
    "torontoStr = 'Toronto, Ontario'\n",
    "geolocator = Nominatim(user_agent=\"t_explorer\")\n",
    "locationToronto = geolocator.geocode(torontoStr)\n",
    "locationToronto = [locationToronto.latitude, locationToronto.longitude]\n",
    "print(locationToronto)"
   ]
  },
  {
   "cell_type": "code",
   "execution_count": 14,
   "metadata": {},
   "outputs": [],
   "source": [
    "#Create map of toronto and mark the postal codes along with 1000m radius around them\n",
    "\n",
    "map_Toronto = folium.Map(location= locationToronto, zoom_start=10)\n",
    "\n",
    "for lat, long in zip(df2['Latitude'], df2['Longitude']):\n",
    "   \n",
    "    folium.Circle([lat, long],\n",
    "                  radius=1000,\n",
    "                  color = '#ffd633',\n",
    "                  opacity = 0.2,\n",
    "                  fill_color = '#ffd633',\n",
    "                  fill_opacity = 0.2,\n",
    "                   ).add_to(map_Toronto)\n",
    "    \n",
    "for pc, bor, neigh, lat, long in zip(df2['Postal_Code'], df2['Borough'], df2['Neighborhood'], df2['Latitude'], df2['Longitude']):\n",
    "    label = '{}, {}, {}'.format(neigh, bor, pc)\n",
    "    \n",
    "    folium.CircleMarker(\n",
    "        [lat, long],\n",
    "        radius=5,\n",
    "        popup=label,\n",
    "        color = '#ff3333',\n",
    "        fill_color = '#ff3333',\n",
    "        fill_opacity = 1,\n",
    "        parse_html=False).add_to(map_Toronto)\n",
    "\n",
    "#Map displayed Later"
   ]
  },
  {
   "cell_type": "code",
   "execution_count": 15,
   "metadata": {},
   "outputs": [],
   "source": [
    "# @hidden_cell\n",
    "# Credentials to access foursquare API\n",
    "CLIENT_ID = '2NMHJHLBJSVNNF1IG5NP1EIEAJEG5OOL4R3NIC2NNI0HWBKT' # your Foursquare ID\n",
    "CLIENT_SECRET = 'ISCQ021Q32GM0LXZGXMBIE2XMIF4XUDVU3EVNNYXYPLXZEHF' # your Foursquare Secret\n",
    "VERSION = '20180605' # Foursquare API version"
   ]
  },
  {
   "cell_type": "markdown",
   "metadata": {},
   "source": [
    "## Get venues in neighborhood using foursquare API"
   ]
  },
  {
   "cell_type": "code",
   "execution_count": 16,
   "metadata": {},
   "outputs": [],
   "source": [
    "#Create a new dataframe to store the venue data along with the previous data\n",
    "df3Columns = list(df2.columns)\n",
    "addColumns = ['Venue', 'VLatitude', 'VLongitude', 'Category']\n",
    "df3Columns.extend(addColumns)\n",
    "\n",
    "df3 = pd.DataFrame(columns = df3Columns)\n",
    "\n",
    "#Loop over each Postal Code\n",
    "for row in range(len(df2)):\n",
    "    pc = df2.loc[row, 'Postal_Code']\n",
    "    bor = df2.loc[row, 'Borough']\n",
    "    neigh = df2.loc[row, 'Neighborhood']\n",
    "    lat = df2.loc[row, 'Latitude']\n",
    "    long = df2.loc[row, 'Longitude']\n",
    "    \n",
    "    try:\n",
    "        url = getURL(lat,long)\n",
    "        results = requests.get(url).json()\n",
    "        itemsDict = results['response']['groups'][0]['items']\n",
    "    except:\n",
    "        continue\n",
    "    \n",
    "    #Loop over every venue in each postal code\n",
    "    for item in itemsDict:\n",
    "        try:\n",
    "            venueName = item['venue']['name']\n",
    "            vLat = float(item['venue']['location']['lat'])\n",
    "            vLong = float(item['venue']['location']['lng'])\n",
    "            category = item['venue']['categories'][0]['name']\n",
    "\n",
    "            newRow = [pc, bor, neigh, lat, long, venueName, vLat, vLong, category]\n",
    "            \n",
    "            #Append data to the new dataFrame\n",
    "            df3 = df3.append(pd.Series(newRow, index = df3Columns), ignore_index = True)\n",
    "        except:\n",
    "            continue\n",
    "    \n",
    "    #print(row, end= \" \")"
   ]
  },
  {
   "cell_type": "code",
   "execution_count": 17,
   "metadata": {},
   "outputs": [
    {
     "data": {
      "text/html": [
       "<div>\n",
       "<style scoped>\n",
       "    .dataframe tbody tr th:only-of-type {\n",
       "        vertical-align: middle;\n",
       "    }\n",
       "\n",
       "    .dataframe tbody tr th {\n",
       "        vertical-align: top;\n",
       "    }\n",
       "\n",
       "    .dataframe thead th {\n",
       "        text-align: right;\n",
       "    }\n",
       "</style>\n",
       "<table border=\"1\" class=\"dataframe\">\n",
       "  <thead>\n",
       "    <tr style=\"text-align: right;\">\n",
       "      <th></th>\n",
       "      <th>Postal_Code</th>\n",
       "      <th>Borough</th>\n",
       "      <th>Neighborhood</th>\n",
       "      <th>Latitude</th>\n",
       "      <th>Longitude</th>\n",
       "      <th>Venue</th>\n",
       "      <th>VLatitude</th>\n",
       "      <th>VLongitude</th>\n",
       "      <th>Category</th>\n",
       "    </tr>\n",
       "  </thead>\n",
       "  <tbody>\n",
       "    <tr>\n",
       "      <th>0</th>\n",
       "      <td>M1S</td>\n",
       "      <td>Scarborough</td>\n",
       "      <td>Agincourt</td>\n",
       "      <td>43.785353</td>\n",
       "      <td>-79.278549</td>\n",
       "      <td>One2 Snacks</td>\n",
       "      <td>43.787048</td>\n",
       "      <td>-79.276658</td>\n",
       "      <td>Asian Restaurant</td>\n",
       "    </tr>\n",
       "    <tr>\n",
       "      <th>1</th>\n",
       "      <td>M1S</td>\n",
       "      <td>Scarborough</td>\n",
       "      <td>Agincourt</td>\n",
       "      <td>43.785353</td>\n",
       "      <td>-79.278549</td>\n",
       "      <td>Tim Hortons</td>\n",
       "      <td>43.785637</td>\n",
       "      <td>-79.279215</td>\n",
       "      <td>Coffee Shop</td>\n",
       "    </tr>\n",
       "    <tr>\n",
       "      <th>2</th>\n",
       "      <td>M1S</td>\n",
       "      <td>Scarborough</td>\n",
       "      <td>Agincourt</td>\n",
       "      <td>43.785353</td>\n",
       "      <td>-79.278549</td>\n",
       "      <td>In Cheon House Korean &amp; Japanese Restaurant 인천관</td>\n",
       "      <td>43.786468</td>\n",
       "      <td>-79.275693</td>\n",
       "      <td>Korean Restaurant</td>\n",
       "    </tr>\n",
       "    <tr>\n",
       "      <th>3</th>\n",
       "      <td>M1S</td>\n",
       "      <td>Scarborough</td>\n",
       "      <td>Agincourt</td>\n",
       "      <td>43.785353</td>\n",
       "      <td>-79.278549</td>\n",
       "      <td>Yummy Cantonese Restaurant 老西関腸粉</td>\n",
       "      <td>43.787568</td>\n",
       "      <td>-79.269585</td>\n",
       "      <td>Cantonese Restaurant</td>\n",
       "    </tr>\n",
       "    <tr>\n",
       "      <th>4</th>\n",
       "      <td>M1S</td>\n",
       "      <td>Scarborough</td>\n",
       "      <td>Agincourt</td>\n",
       "      <td>43.785353</td>\n",
       "      <td>-79.278549</td>\n",
       "      <td>Beef Noodle Restaurant 老李牛肉麵</td>\n",
       "      <td>43.785937</td>\n",
       "      <td>-79.276031</td>\n",
       "      <td>Chinese Restaurant</td>\n",
       "    </tr>\n",
       "  </tbody>\n",
       "</table>\n",
       "</div>"
      ],
      "text/plain": [
       "  Postal_Code      Borough Neighborhood   Latitude  Longitude  \\\n",
       "0         M1S  Scarborough    Agincourt  43.785353 -79.278549   \n",
       "1         M1S  Scarborough    Agincourt  43.785353 -79.278549   \n",
       "2         M1S  Scarborough    Agincourt  43.785353 -79.278549   \n",
       "3         M1S  Scarborough    Agincourt  43.785353 -79.278549   \n",
       "4         M1S  Scarborough    Agincourt  43.785353 -79.278549   \n",
       "\n",
       "                                             Venue  VLatitude  VLongitude  \\\n",
       "0                                      One2 Snacks  43.787048  -79.276658   \n",
       "1                                      Tim Hortons  43.785637  -79.279215   \n",
       "2  In Cheon House Korean & Japanese Restaurant 인천관  43.786468  -79.275693   \n",
       "3                 Yummy Cantonese Restaurant 老西関腸粉  43.787568  -79.269585   \n",
       "4                     Beef Noodle Restaurant 老李牛肉麵  43.785937  -79.276031   \n",
       "\n",
       "               Category  \n",
       "0      Asian Restaurant  \n",
       "1           Coffee Shop  \n",
       "2     Korean Restaurant  \n",
       "3  Cantonese Restaurant  \n",
       "4    Chinese Restaurant  "
      ]
     },
     "metadata": {},
     "output_type": "display_data"
    },
    {
     "name": "stdout",
     "output_type": "stream",
     "text": [
      "(2692, 9)\n",
      "Number of neighborhoods : 49\n",
      "Number of venue categories : 290\n"
     ]
    }
   ],
   "source": [
    "\n",
    "#drop 'neighborhood' venue categories\n",
    "\n",
    "df3 = df3[df3['Category'] != 'Neighborhood'].reset_index(drop = True)\n",
    "display(df3.head())\n",
    "print(df3.shape)\n",
    "print('Number of neighborhoods : {}'.format(len(df3['Neighborhood'].unique())))\n",
    "print('Number of venue categories : {}'.format(len(df3['Category'].unique())))"
   ]
  },
  {
   "cell_type": "code",
   "execution_count": 18,
   "metadata": {},
   "outputs": [],
   "source": [
    "#Remove neighborhoods from df2 whose data doesnt exist in df3(due to some errors)\n",
    "missing = [i for i in df2['Neighborhood'] if i not in df3['Neighborhood'].unique()]\n",
    "df2 = df2[~df2['Neighborhood'].isin(missing)]"
   ]
  },
  {
   "cell_type": "markdown",
   "metadata": {},
   "source": [
    "## Convert venues to categoricial variables"
   ]
  },
  {
   "cell_type": "code",
   "execution_count": 19,
   "metadata": {},
   "outputs": [
    {
     "data": {
      "text/html": [
       "<div>\n",
       "<style scoped>\n",
       "    .dataframe tbody tr th:only-of-type {\n",
       "        vertical-align: middle;\n",
       "    }\n",
       "\n",
       "    .dataframe tbody tr th {\n",
       "        vertical-align: top;\n",
       "    }\n",
       "\n",
       "    .dataframe thead th {\n",
       "        text-align: right;\n",
       "    }\n",
       "</style>\n",
       "<table border=\"1\" class=\"dataframe\">\n",
       "  <thead>\n",
       "    <tr style=\"text-align: right;\">\n",
       "      <th></th>\n",
       "      <th>Neighborhood</th>\n",
       "      <th>Accessories Store</th>\n",
       "      <th>Afghan Restaurant</th>\n",
       "      <th>African Restaurant</th>\n",
       "      <th>American Restaurant</th>\n",
       "      <th>Amphitheater</th>\n",
       "      <th>Animal Shelter</th>\n",
       "      <th>Antique Shop</th>\n",
       "      <th>Aquarium</th>\n",
       "      <th>Argentinian Restaurant</th>\n",
       "      <th>...</th>\n",
       "      <th>Video Game Store</th>\n",
       "      <th>Video Store</th>\n",
       "      <th>Vietnamese Restaurant</th>\n",
       "      <th>Warehouse Store</th>\n",
       "      <th>Wine Bar</th>\n",
       "      <th>Wings Joint</th>\n",
       "      <th>Women's Store</th>\n",
       "      <th>Xinjiang Restaurant</th>\n",
       "      <th>Yoga Studio</th>\n",
       "      <th>Zoo</th>\n",
       "    </tr>\n",
       "  </thead>\n",
       "  <tbody>\n",
       "    <tr>\n",
       "      <th>0</th>\n",
       "      <td>Agincourt</td>\n",
       "      <td>0.0</td>\n",
       "      <td>0.0</td>\n",
       "      <td>0.0</td>\n",
       "      <td>0.00</td>\n",
       "      <td>0.0</td>\n",
       "      <td>0.0</td>\n",
       "      <td>0.0</td>\n",
       "      <td>0.0</td>\n",
       "      <td>0.0</td>\n",
       "      <td>...</td>\n",
       "      <td>0.0</td>\n",
       "      <td>0.0</td>\n",
       "      <td>0.027778</td>\n",
       "      <td>0.0</td>\n",
       "      <td>0.0</td>\n",
       "      <td>0.0</td>\n",
       "      <td>0.00</td>\n",
       "      <td>0.000</td>\n",
       "      <td>0.0</td>\n",
       "      <td>0.0</td>\n",
       "    </tr>\n",
       "    <tr>\n",
       "      <th>1</th>\n",
       "      <td>Alderwood, Long Branch</td>\n",
       "      <td>0.0</td>\n",
       "      <td>0.0</td>\n",
       "      <td>0.0</td>\n",
       "      <td>0.00</td>\n",
       "      <td>0.0</td>\n",
       "      <td>0.0</td>\n",
       "      <td>0.0</td>\n",
       "      <td>0.0</td>\n",
       "      <td>0.0</td>\n",
       "      <td>...</td>\n",
       "      <td>0.0</td>\n",
       "      <td>0.0</td>\n",
       "      <td>0.000000</td>\n",
       "      <td>0.0</td>\n",
       "      <td>0.0</td>\n",
       "      <td>0.0</td>\n",
       "      <td>0.00</td>\n",
       "      <td>0.000</td>\n",
       "      <td>0.0</td>\n",
       "      <td>0.0</td>\n",
       "    </tr>\n",
       "    <tr>\n",
       "      <th>2</th>\n",
       "      <td>Bayview Village</td>\n",
       "      <td>0.0</td>\n",
       "      <td>0.0</td>\n",
       "      <td>0.0</td>\n",
       "      <td>0.00</td>\n",
       "      <td>0.0</td>\n",
       "      <td>0.0</td>\n",
       "      <td>0.0</td>\n",
       "      <td>0.0</td>\n",
       "      <td>0.0</td>\n",
       "      <td>...</td>\n",
       "      <td>0.0</td>\n",
       "      <td>0.0</td>\n",
       "      <td>0.000000</td>\n",
       "      <td>0.0</td>\n",
       "      <td>0.0</td>\n",
       "      <td>0.0</td>\n",
       "      <td>0.02</td>\n",
       "      <td>0.000</td>\n",
       "      <td>0.0</td>\n",
       "      <td>0.0</td>\n",
       "    </tr>\n",
       "    <tr>\n",
       "      <th>3</th>\n",
       "      <td>Berczy Park</td>\n",
       "      <td>0.0</td>\n",
       "      <td>0.0</td>\n",
       "      <td>0.0</td>\n",
       "      <td>0.03</td>\n",
       "      <td>0.0</td>\n",
       "      <td>0.0</td>\n",
       "      <td>0.0</td>\n",
       "      <td>0.0</td>\n",
       "      <td>0.0</td>\n",
       "      <td>...</td>\n",
       "      <td>0.0</td>\n",
       "      <td>0.0</td>\n",
       "      <td>0.000000</td>\n",
       "      <td>0.0</td>\n",
       "      <td>0.0</td>\n",
       "      <td>0.0</td>\n",
       "      <td>0.00</td>\n",
       "      <td>0.000</td>\n",
       "      <td>0.0</td>\n",
       "      <td>0.0</td>\n",
       "    </tr>\n",
       "    <tr>\n",
       "      <th>4</th>\n",
       "      <td>Cedarbrae</td>\n",
       "      <td>0.0</td>\n",
       "      <td>0.0</td>\n",
       "      <td>0.0</td>\n",
       "      <td>0.00</td>\n",
       "      <td>0.0</td>\n",
       "      <td>0.0</td>\n",
       "      <td>0.0</td>\n",
       "      <td>0.0</td>\n",
       "      <td>0.0</td>\n",
       "      <td>...</td>\n",
       "      <td>0.0</td>\n",
       "      <td>0.0</td>\n",
       "      <td>0.025000</td>\n",
       "      <td>0.0</td>\n",
       "      <td>0.0</td>\n",
       "      <td>0.0</td>\n",
       "      <td>0.00</td>\n",
       "      <td>0.025</td>\n",
       "      <td>0.0</td>\n",
       "      <td>0.0</td>\n",
       "    </tr>\n",
       "  </tbody>\n",
       "</table>\n",
       "<p>5 rows × 291 columns</p>\n",
       "</div>"
      ],
      "text/plain": [
       "             Neighborhood  Accessories Store  Afghan Restaurant  \\\n",
       "0               Agincourt                0.0                0.0   \n",
       "1  Alderwood, Long Branch                0.0                0.0   \n",
       "2         Bayview Village                0.0                0.0   \n",
       "3             Berczy Park                0.0                0.0   \n",
       "4               Cedarbrae                0.0                0.0   \n",
       "\n",
       "   African Restaurant  American Restaurant  Amphitheater  Animal Shelter  \\\n",
       "0                 0.0                 0.00           0.0             0.0   \n",
       "1                 0.0                 0.00           0.0             0.0   \n",
       "2                 0.0                 0.00           0.0             0.0   \n",
       "3                 0.0                 0.03           0.0             0.0   \n",
       "4                 0.0                 0.00           0.0             0.0   \n",
       "\n",
       "   Antique Shop  Aquarium  Argentinian Restaurant  ...  Video Game Store  \\\n",
       "0           0.0       0.0                     0.0  ...               0.0   \n",
       "1           0.0       0.0                     0.0  ...               0.0   \n",
       "2           0.0       0.0                     0.0  ...               0.0   \n",
       "3           0.0       0.0                     0.0  ...               0.0   \n",
       "4           0.0       0.0                     0.0  ...               0.0   \n",
       "\n",
       "   Video Store  Vietnamese Restaurant  Warehouse Store  Wine Bar  Wings Joint  \\\n",
       "0          0.0               0.027778              0.0       0.0          0.0   \n",
       "1          0.0               0.000000              0.0       0.0          0.0   \n",
       "2          0.0               0.000000              0.0       0.0          0.0   \n",
       "3          0.0               0.000000              0.0       0.0          0.0   \n",
       "4          0.0               0.025000              0.0       0.0          0.0   \n",
       "\n",
       "   Women's Store  Xinjiang Restaurant  Yoga Studio  Zoo  \n",
       "0           0.00                0.000          0.0  0.0  \n",
       "1           0.00                0.000          0.0  0.0  \n",
       "2           0.02                0.000          0.0  0.0  \n",
       "3           0.00                0.000          0.0  0.0  \n",
       "4           0.00                0.025          0.0  0.0  \n",
       "\n",
       "[5 rows x 291 columns]"
      ]
     },
     "metadata": {},
     "output_type": "display_data"
    },
    {
     "name": "stdout",
     "output_type": "stream",
     "text": [
      "(49, 291)\n"
     ]
    }
   ],
   "source": [
    "#Create new dataframe of the postal codes and the Categorical Variables of 'Category'\n",
    "toronto_df = pd.get_dummies(df3[['Category']], prefix=\"\", prefix_sep=\"\")\n",
    "toronto_df = toronto_df.reindex(sorted(toronto_df.columns), axis=1)\n",
    "toronto_df.insert(0, 'Neighborhood', df3[['Neighborhood']])\n",
    "toronto_df = toronto_df.groupby('Neighborhood').mean().reset_index()\n",
    "display(toronto_df.head())\n",
    "print(toronto_df.shape)"
   ]
  },
  {
   "cell_type": "markdown",
   "metadata": {},
   "source": [
    "## KMeans clustering to cluster neighborhoods together"
   ]
  },
  {
   "cell_type": "code",
   "execution_count": 20,
   "metadata": {},
   "outputs": [
    {
     "data": {
      "image/png": "[encoded data removed]",
      "text/plain": [
       "<Figure size 432x288 with 1 Axes>"
      ]
     },
     "metadata": {
      "needs_background": "light"
     },
     "output_type": "display_data"
    }
   ],
   "source": [
    "\n",
    "#Model to create clusters\n",
    "df_modeldata = toronto_df.drop('Neighborhood',axis = 1)\n",
    "\n",
    "#Choosing the best K using elbow method\n",
    "k_kmeans = [(i+1) for i in range(10)]\n",
    "inertia_arr = []\n",
    "\n",
    "for k in k_kmeans:\n",
    "    kMeansModel = KMeans(init = \"k-means++\", n_clusters = k, n_init = 10)\n",
    "    kMeansModel.fit(df_modeldata)\n",
    "    inertia_arr.append(kMeansModel.inertia_)\n",
    "    \n",
    "df_dict = {'K':k_kmeans, 'Inertia': inertia_arr}\n",
    "df_kMeans = pd.DataFrame(df_dict)\n",
    "df_kMeans.plot(kind='line',x = 'K', y='Inertia', xticks = k_kmeans)\n",
    "plt.title('KMeans Analysis')\n",
    "plt.xlabel('K')\n",
    "plt.ylabel('Inertia')\n",
    "plt.show()"
   ]
  },
  {
   "cell_type": "code",
   "execution_count": 21,
   "metadata": {},
   "outputs": [],
   "source": [
    "#Choosing the best k as 8 and creating model\n",
    "best_k_kMeans = 8\n",
    "kMeansModel = KMeans(init = \"k-means++\", n_clusters = best_k_kMeans, n_init = 10)\n",
    "kMeansModel.fit(df_modeldata)\n",
    "clustered_arr = kMeansModel.labels_"
   ]
  },
  {
   "cell_type": "code",
   "execution_count": 22,
   "metadata": {},
   "outputs": [
    {
     "data": {
      "text/html": [
       "<div>\n",
       "<style scoped>\n",
       "    .dataframe tbody tr th:only-of-type {\n",
       "        vertical-align: middle;\n",
       "    }\n",
       "\n",
       "    .dataframe tbody tr th {\n",
       "        vertical-align: top;\n",
       "    }\n",
       "\n",
       "    .dataframe thead th {\n",
       "        text-align: right;\n",
       "    }\n",
       "</style>\n",
       "<table border=\"1\" class=\"dataframe\">\n",
       "  <thead>\n",
       "    <tr style=\"text-align: right;\">\n",
       "      <th></th>\n",
       "      <th>Postal_Code</th>\n",
       "      <th>Borough</th>\n",
       "      <th>Neighborhood</th>\n",
       "      <th>Latitude</th>\n",
       "      <th>Longitude</th>\n",
       "      <th>Cluster</th>\n",
       "    </tr>\n",
       "  </thead>\n",
       "  <tbody>\n",
       "    <tr>\n",
       "      <th>0</th>\n",
       "      <td>M1S</td>\n",
       "      <td>Scarborough</td>\n",
       "      <td>Agincourt</td>\n",
       "      <td>43.785353</td>\n",
       "      <td>-79.278549</td>\n",
       "      <td>4</td>\n",
       "    </tr>\n",
       "    <tr>\n",
       "      <th>1</th>\n",
       "      <td>M8W</td>\n",
       "      <td>Etobicoke</td>\n",
       "      <td>Alderwood, Long Branch</td>\n",
       "      <td>43.601717</td>\n",
       "      <td>-79.545232</td>\n",
       "      <td>0</td>\n",
       "    </tr>\n",
       "    <tr>\n",
       "      <th>2</th>\n",
       "      <td>M2K</td>\n",
       "      <td>North York</td>\n",
       "      <td>Bayview Village</td>\n",
       "      <td>43.769197</td>\n",
       "      <td>-79.376662</td>\n",
       "      <td>1</td>\n",
       "    </tr>\n",
       "    <tr>\n",
       "      <th>3</th>\n",
       "      <td>M5E</td>\n",
       "      <td>Downtown Toronto</td>\n",
       "      <td>Berczy Park</td>\n",
       "      <td>43.647984</td>\n",
       "      <td>-79.375396</td>\n",
       "      <td>1</td>\n",
       "    </tr>\n",
       "    <tr>\n",
       "      <th>4</th>\n",
       "      <td>M1H</td>\n",
       "      <td>Scarborough</td>\n",
       "      <td>Cedarbrae</td>\n",
       "      <td>43.756467</td>\n",
       "      <td>-79.226692</td>\n",
       "      <td>0</td>\n",
       "    </tr>\n",
       "  </tbody>\n",
       "</table>\n",
       "</div>"
      ],
      "text/plain": [
       "  Postal_Code           Borough            Neighborhood   Latitude  Longitude  \\\n",
       "0         M1S       Scarborough               Agincourt  43.785353 -79.278549   \n",
       "1         M8W         Etobicoke  Alderwood, Long Branch  43.601717 -79.545232   \n",
       "2         M2K        North York         Bayview Village  43.769197 -79.376662   \n",
       "3         M5E  Downtown Toronto             Berczy Park  43.647984 -79.375396   \n",
       "4         M1H       Scarborough               Cedarbrae  43.756467 -79.226692   \n",
       "\n",
       "   Cluster  \n",
       "0        4  \n",
       "1        0  \n",
       "2        1  \n",
       "3        1  \n",
       "4        0  "
      ]
     },
     "metadata": {},
     "output_type": "display_data"
    },
    {
     "name": "stdout",
     "output_type": "stream",
     "text": [
      "(49, 6)\n"
     ]
    }
   ],
   "source": [
    "df2['Cluster'] = clustered_arr\n",
    "display(df2.head())\n",
    "print(df2.shape)"
   ]
  },
  {
   "cell_type": "code",
   "execution_count": 23,
   "metadata": {},
   "outputs": [],
   "source": [
    "#CREATE CLUSTER MAP\n",
    "\n",
    "clusters_map = folium.Map(location = locationToronto, zoom_start = 10)\n",
    "colors = [randomColor() for i in range(best_k_kMeans)]\n",
    "\n",
    "for pc, lat, long, cluster in zip(df2['Postal_Code'], df2['Latitude'], df2['Longitude'], df2['Cluster']):\n",
    "    label = 'Cluster{}, {}, {}'.format(cluster, neigh, bor)\n",
    "    \n",
    "    folium.CircleMarker(\n",
    "        [lat, long],\n",
    "        radius=5,\n",
    "        popup=label,\n",
    "        color = '#FFFFFF',\n",
    "        weight = 2,\n",
    "        fill_color = colors[cluster],\n",
    "        fill_opacity = 1,\n",
    "        parse_html=False).add_to(clusters_map)\n",
    "\n",
    "#Map displayed later"
   ]
  },
  {
   "cell_type": "markdown",
   "metadata": {},
   "source": [
    "## KNN Classification to classify the new location given by user"
   ]
  },
  {
   "cell_type": "code",
   "execution_count": 24,
   "metadata": {},
   "outputs": [],
   "source": [
    "X = df_modeldata.values\n",
    "Y= df2['Cluster'].values"
   ]
  },
  {
   "cell_type": "code",
   "execution_count": 25,
   "metadata": {},
   "outputs": [
    {
     "data": {
      "text/html": [
       "<div>\n",
       "<style scoped>\n",
       "    .dataframe tbody tr th:only-of-type {\n",
       "        vertical-align: middle;\n",
       "    }\n",
       "\n",
       "    .dataframe tbody tr th {\n",
       "        vertical-align: top;\n",
       "    }\n",
       "\n",
       "    .dataframe thead th {\n",
       "        text-align: right;\n",
       "    }\n",
       "</style>\n",
       "<table border=\"1\" class=\"dataframe\">\n",
       "  <thead>\n",
       "    <tr style=\"text-align: right;\">\n",
       "      <th></th>\n",
       "      <th>K</th>\n",
       "      <th>Accuracy</th>\n",
       "      <th>F1 Score</th>\n",
       "    </tr>\n",
       "  </thead>\n",
       "  <tbody>\n",
       "    <tr>\n",
       "      <th>0</th>\n",
       "      <td>1</td>\n",
       "      <td>80.0</td>\n",
       "      <td>80.62</td>\n",
       "    </tr>\n",
       "    <tr>\n",
       "      <th>1</th>\n",
       "      <td>2</td>\n",
       "      <td>90.0</td>\n",
       "      <td>95.56</td>\n",
       "    </tr>\n",
       "    <tr>\n",
       "      <th>2</th>\n",
       "      <td>3</td>\n",
       "      <td>90.0</td>\n",
       "      <td>94.81</td>\n",
       "    </tr>\n",
       "    <tr>\n",
       "      <th>3</th>\n",
       "      <td>4</td>\n",
       "      <td>70.0</td>\n",
       "      <td>82.35</td>\n",
       "    </tr>\n",
       "    <tr>\n",
       "      <th>4</th>\n",
       "      <td>5</td>\n",
       "      <td>70.0</td>\n",
       "      <td>82.35</td>\n",
       "    </tr>\n",
       "    <tr>\n",
       "      <th>5</th>\n",
       "      <td>6</td>\n",
       "      <td>80.0</td>\n",
       "      <td>93.75</td>\n",
       "    </tr>\n",
       "    <tr>\n",
       "      <th>6</th>\n",
       "      <td>7</td>\n",
       "      <td>70.0</td>\n",
       "      <td>76.56</td>\n",
       "    </tr>\n",
       "    <tr>\n",
       "      <th>7</th>\n",
       "      <td>8</td>\n",
       "      <td>80.0</td>\n",
       "      <td>90.00</td>\n",
       "    </tr>\n",
       "    <tr>\n",
       "      <th>8</th>\n",
       "      <td>9</td>\n",
       "      <td>70.0</td>\n",
       "      <td>82.35</td>\n",
       "    </tr>\n",
       "    <tr>\n",
       "      <th>9</th>\n",
       "      <td>10</td>\n",
       "      <td>70.0</td>\n",
       "      <td>82.35</td>\n",
       "    </tr>\n",
       "  </tbody>\n",
       "</table>\n",
       "</div>"
      ],
      "text/plain": [
       "    K  Accuracy  F1 Score\n",
       "0   1      80.0     80.62\n",
       "1   2      90.0     95.56\n",
       "2   3      90.0     94.81\n",
       "3   4      70.0     82.35\n",
       "4   5      70.0     82.35\n",
       "5   6      80.0     93.75\n",
       "6   7      70.0     76.56\n",
       "7   8      80.0     90.00\n",
       "8   9      70.0     82.35\n",
       "9  10      70.0     82.35"
      ]
     },
     "metadata": {},
     "output_type": "display_data"
    },
    {
     "data": {
      "image/png": "[encoded data removed]",
      "text/plain": [
       "<Figure size 432x288 with 1 Axes>"
      ]
     },
     "metadata": {
      "needs_background": "light"
     },
     "output_type": "display_data"
    }
   ],
   "source": [
    "x_train,x_test,y_train,y_test = train_test_split(X,Y,test_size = 0.2, random_state=1)\n",
    "\n",
    "k_kNN = [(i+1) for i in range(10)]\n",
    "acc_arr = []\n",
    "f1_arr = []\n",
    "\n",
    "for k in k_kNN:\n",
    "    kNNmodel = KNeighborsClassifier(n_neighbors = k)\n",
    "    kNNmodel.fit(x_train,y_train)\n",
    "    yhat_kNN = kNNmodel.predict(x_test)\n",
    "\n",
    "    acc_arr.append(accuracy_score(y_test,yhat_kNN).round(4)*100)\n",
    "    f1_arr.append(f1_score(y_test,yhat_kNN, average = 'weighted', labels=np.unique(yhat_kNN)).round(4)*100)\n",
    "\n",
    "df_dict = {'K':k_kNN,'Accuracy':acc_arr, 'F1 Score':f1_arr}\n",
    "df_kNN = pd.DataFrame(df_dict)\n",
    "\n",
    "display(df_kNN)\n",
    "df_kNN.plot(kind='line',x='K',y=['Accuracy', 'F1 Score'])\n",
    "plt.xlabel('K')\n",
    "plt.ylabel('Accuracy')\n",
    "plt.title('KNN Analysis')\n",
    "plt.show()"
   ]
  },
  {
   "cell_type": "code",
   "execution_count": 26,
   "metadata": {},
   "outputs": [
    {
     "name": "stdout",
     "output_type": "stream",
     "text": [
      "Classification Report :\n",
      "              precision    recall  f1-score   support\n",
      "\n",
      "           0       1.00      1.00      1.00         2\n",
      "           1       0.88      1.00      0.93         7\n",
      "           7       0.00      0.00      0.00         1\n",
      "\n",
      "   micro avg       0.90      0.90      0.90        10\n",
      "   macro avg       0.62      0.67      0.64        10\n",
      "weighted avg       0.81      0.90      0.85        10\n",
      "\n",
      "The cross validation score is :  0.758\n"
     ]
    },
    {
     "name": "stderr",
     "output_type": "stream",
     "text": [
      "/home/jupyterlab/conda/envs/python/lib/python3.6/site-packages/sklearn/metrics/classification.py:1143: UndefinedMetricWarning: Precision and F-score are ill-defined and being set to 0.0 in labels with no predicted samples.\n",
      "  'precision', 'predicted', average, warn_for)\n",
      "/home/jupyterlab/conda/envs/python/lib/python3.6/site-packages/sklearn/model_selection/_split.py:652: Warning: The least populated class in y has only 1 members, which is too few. The minimum number of members in any class cannot be less than n_splits=5.\n",
      "  % (min_groups, self.n_splits)), Warning)\n"
     ]
    }
   ],
   "source": [
    "#k = 1 is the best k, Therefore\n",
    "best_k_kNN = 3\n",
    "kNNmodel = KNeighborsClassifier(n_neighbors = best_k_kNN)\n",
    "kNNmodel.fit(x_train,y_train)\n",
    "print('Classification Report :')\n",
    "print (classification_report(y_test, kNNmodel.predict(x_test)))\n",
    "print('The cross validation score is : ',cross_val_score(kNNmodel, X, Y, cv=5).mean().round(3))"
   ]
  },
  {
   "cell_type": "code",
   "execution_count": 27,
   "metadata": {},
   "outputs": [],
   "source": [
    "#Using entire dataset to train the model\n",
    "kNNmodel = KNeighborsClassifier(n_neighbors = best_k_kNN)\n",
    "kNNmodel.fit(X,Y)\n",
    "yhat_kNN = kNNmodel.predict(X)"
   ]
  },
  {
   "cell_type": "code",
   "execution_count": 28,
   "metadata": {},
   "outputs": [
    {
     "name": "stdout",
     "output_type": "stream",
     "text": [
      "[28.6313827, 77.2197924]\n"
     ]
    }
   ],
   "source": [
    "#Get Latitude and longitude values of current neighborhood\n",
    "currentNeighName = 'Connaught Place, New Delhi'\n",
    "geolocator = Nominatim(user_agent=\"t_explorer\")\n",
    "locationCurrent = geolocator.geocode(currentNeighName)\n",
    "locationCurrent = [locationCurrent.latitude, locationCurrent.longitude]\n",
    "print(locationCurrent)"
   ]
  },
  {
   "cell_type": "code",
   "execution_count": 29,
   "metadata": {},
   "outputs": [
    {
     "data": {
      "text/html": [
       "<div>\n",
       "<style scoped>\n",
       "    .dataframe tbody tr th:only-of-type {\n",
       "        vertical-align: middle;\n",
       "    }\n",
       "\n",
       "    .dataframe tbody tr th {\n",
       "        vertical-align: top;\n",
       "    }\n",
       "\n",
       "    .dataframe thead th {\n",
       "        text-align: right;\n",
       "    }\n",
       "</style>\n",
       "<table border=\"1\" class=\"dataframe\">\n",
       "  <thead>\n",
       "    <tr style=\"text-align: right;\">\n",
       "      <th></th>\n",
       "      <th>Neighborhood</th>\n",
       "      <th>Latitude</th>\n",
       "      <th>Longitude</th>\n",
       "      <th>Venue</th>\n",
       "      <th>VLatitude</th>\n",
       "      <th>VLongitude</th>\n",
       "      <th>Category</th>\n",
       "    </tr>\n",
       "  </thead>\n",
       "  <tbody>\n",
       "  </tbody>\n",
       "</table>\n",
       "</div>"
      ],
      "text/plain": [
       "Empty DataFrame\n",
       "Columns: [Neighborhood, Latitude, Longitude, Venue, VLatitude, VLongitude, Category]\n",
       "Index: []"
      ]
     },
     "execution_count": 29,
     "metadata": {},
     "output_type": "execute_result"
    }
   ],
   "source": [
    "#Create empty dataframe to store the current neighborhood venues\n",
    "currentColumns = ['Neighborhood', 'Latitude', 'Longitude']\n",
    "currentColumns.extend(addColumns)\n",
    "df_current = pd.DataFrame(columns = currentColumns)\n",
    "df_current"
   ]
  },
  {
   "cell_type": "code",
   "execution_count": 54,
   "metadata": {},
   "outputs": [
    {
     "data": {
      "text/html": [
       "<div>\n",
       "<style scoped>\n",
       "    .dataframe tbody tr th:only-of-type {\n",
       "        vertical-align: middle;\n",
       "    }\n",
       "\n",
       "    .dataframe tbody tr th {\n",
       "        vertical-align: top;\n",
       "    }\n",
       "\n",
       "    .dataframe thead th {\n",
       "        text-align: right;\n",
       "    }\n",
       "</style>\n",
       "<table border=\"1\" class=\"dataframe\">\n",
       "  <thead>\n",
       "    <tr style=\"text-align: right;\">\n",
       "      <th></th>\n",
       "      <th>Neighborhood</th>\n",
       "      <th>Latitude</th>\n",
       "      <th>Longitude</th>\n",
       "      <th>Venue</th>\n",
       "      <th>VLatitude</th>\n",
       "      <th>VLongitude</th>\n",
       "      <th>Category</th>\n",
       "    </tr>\n",
       "  </thead>\n",
       "  <tbody>\n",
       "    <tr>\n",
       "      <th>0</th>\n",
       "      <td>Connaught Place, New Delhi</td>\n",
       "      <td>28.631383</td>\n",
       "      <td>77.219792</td>\n",
       "      <td>Connaught Place | कनॉट प्लेस (Connaught Place)</td>\n",
       "      <td>28.632731</td>\n",
       "      <td>77.220018</td>\n",
       "      <td>Plaza</td>\n",
       "    </tr>\n",
       "    <tr>\n",
       "      <th>1</th>\n",
       "      <td>Connaught Place, New Delhi</td>\n",
       "      <td>28.631383</td>\n",
       "      <td>77.219792</td>\n",
       "      <td>Starbucks</td>\n",
       "      <td>28.632011</td>\n",
       "      <td>77.217731</td>\n",
       "      <td>Coffee Shop</td>\n",
       "    </tr>\n",
       "    <tr>\n",
       "      <th>2</th>\n",
       "      <td>Connaught Place, New Delhi</td>\n",
       "      <td>28.631383</td>\n",
       "      <td>77.219792</td>\n",
       "      <td>Jain Chawal Wale</td>\n",
       "      <td>28.630052</td>\n",
       "      <td>77.217649</td>\n",
       "      <td>Food Truck</td>\n",
       "    </tr>\n",
       "    <tr>\n",
       "      <th>3</th>\n",
       "      <td>Connaught Place, New Delhi</td>\n",
       "      <td>28.631383</td>\n",
       "      <td>77.219792</td>\n",
       "      <td>Rajdhani Thali</td>\n",
       "      <td>28.629999</td>\n",
       "      <td>77.220401</td>\n",
       "      <td>Indian Restaurant</td>\n",
       "    </tr>\n",
       "    <tr>\n",
       "      <th>4</th>\n",
       "      <td>Connaught Place, New Delhi</td>\n",
       "      <td>28.631383</td>\n",
       "      <td>77.219792</td>\n",
       "      <td>Fabindia</td>\n",
       "      <td>28.632012</td>\n",
       "      <td>77.217729</td>\n",
       "      <td>Clothing Store</td>\n",
       "    </tr>\n",
       "  </tbody>\n",
       "</table>\n",
       "</div>"
      ],
      "text/plain": [
       "                 Neighborhood   Latitude  Longitude  \\\n",
       "0  Connaught Place, New Delhi  28.631383  77.219792   \n",
       "1  Connaught Place, New Delhi  28.631383  77.219792   \n",
       "2  Connaught Place, New Delhi  28.631383  77.219792   \n",
       "3  Connaught Place, New Delhi  28.631383  77.219792   \n",
       "4  Connaught Place, New Delhi  28.631383  77.219792   \n",
       "\n",
       "                                            Venue  VLatitude  VLongitude  \\\n",
       "0  Connaught Place | कनॉट प्लेस (Connaught Place)  28.632731   77.220018   \n",
       "1                                       Starbucks  28.632011   77.217731   \n",
       "2                                Jain Chawal Wale  28.630052   77.217649   \n",
       "3                                  Rajdhani Thali  28.629999   77.220401   \n",
       "4                                        Fabindia  28.632012   77.217729   \n",
       "\n",
       "            Category  \n",
       "0              Plaza  \n",
       "1        Coffee Shop  \n",
       "2         Food Truck  \n",
       "3  Indian Restaurant  \n",
       "4     Clothing Store  "
      ]
     },
     "execution_count": 54,
     "metadata": {},
     "output_type": "execute_result"
    }
   ],
   "source": [
    "df_current.head()"
   ]
  },
  {
   "cell_type": "code",
   "execution_count": 30,
   "metadata": {},
   "outputs": [
    {
     "name": "stdout",
     "output_type": "stream",
     "text": [
      "0 1 2 3 4 5 6 7 8 9 10 11 12 13 14 15 16 17 18 19 20 21 22 23 24 25 26 27 28 29 30 31 32 33 34 35 36 37 38 39 40 41 42 43 44 45 46 47 48 49 50 51 52 53 54 55 56 57 58 59 60 61 62 63 64 65 66 67 68 69 70 71 72 73 74 75 76 77 78 79 "
     ]
    }
   ],
   "source": [
    "\n",
    "#Get the current URL\n",
    "try:\n",
    "    lat = locationCurrent[0]\n",
    "    long = locationCurrent[1]\n",
    "    currentURL = getURL(lat, long)\n",
    "    results = requests.get(currentURL).json()\n",
    "    itemsDict = results['response']['groups'][0]['items']\n",
    "except:\n",
    "    pass\n",
    "\n",
    "#Loop over every venue in the neighborhood\n",
    "for i,item in enumerate(itemsDict):\n",
    "    try:\n",
    "        venueName = item['venue']['name']\n",
    "        vLat = float(item['venue']['location']['lat'])\n",
    "        vLong = float(item['venue']['location']['lng'])\n",
    "        category = item['venue']['categories'][0]['name']\n",
    "\n",
    "        newRow = [currentNeighName, lat, long, venueName, vLat, vLong, category]\n",
    "\n",
    "        #Append data to the new dataFrame\n",
    "        df_current = df_current.append(pd.Series(newRow, index = currentColumns), ignore_index = True)\n",
    "        print(i, end= \" \")\n",
    "        \n",
    "    except:\n",
    "        continue"
   ]
  },
  {
   "cell_type": "code",
   "execution_count": 31,
   "metadata": {},
   "outputs": [
    {
     "data": {
      "text/html": [
       "<div>\n",
       "<style scoped>\n",
       "    .dataframe tbody tr th:only-of-type {\n",
       "        vertical-align: middle;\n",
       "    }\n",
       "\n",
       "    .dataframe tbody tr th {\n",
       "        vertical-align: top;\n",
       "    }\n",
       "\n",
       "    .dataframe thead th {\n",
       "        text-align: right;\n",
       "    }\n",
       "</style>\n",
       "<table border=\"1\" class=\"dataframe\">\n",
       "  <thead>\n",
       "    <tr style=\"text-align: right;\">\n",
       "      <th></th>\n",
       "      <th>Neighborhood</th>\n",
       "      <th>Latitude</th>\n",
       "      <th>Longitude</th>\n",
       "      <th>Venue</th>\n",
       "      <th>VLatitude</th>\n",
       "      <th>VLongitude</th>\n",
       "      <th>Category</th>\n",
       "    </tr>\n",
       "  </thead>\n",
       "  <tbody>\n",
       "    <tr>\n",
       "      <th>0</th>\n",
       "      <td>Connaught Place, New Delhi</td>\n",
       "      <td>28.631383</td>\n",
       "      <td>77.219792</td>\n",
       "      <td>Connaught Place | कनॉट प्लेस (Connaught Place)</td>\n",
       "      <td>28.632731</td>\n",
       "      <td>77.220018</td>\n",
       "      <td>Plaza</td>\n",
       "    </tr>\n",
       "    <tr>\n",
       "      <th>1</th>\n",
       "      <td>Connaught Place, New Delhi</td>\n",
       "      <td>28.631383</td>\n",
       "      <td>77.219792</td>\n",
       "      <td>Starbucks</td>\n",
       "      <td>28.632011</td>\n",
       "      <td>77.217731</td>\n",
       "      <td>Coffee Shop</td>\n",
       "    </tr>\n",
       "    <tr>\n",
       "      <th>2</th>\n",
       "      <td>Connaught Place, New Delhi</td>\n",
       "      <td>28.631383</td>\n",
       "      <td>77.219792</td>\n",
       "      <td>Jain Chawal Wale</td>\n",
       "      <td>28.630052</td>\n",
       "      <td>77.217649</td>\n",
       "      <td>Food Truck</td>\n",
       "    </tr>\n",
       "    <tr>\n",
       "      <th>3</th>\n",
       "      <td>Connaught Place, New Delhi</td>\n",
       "      <td>28.631383</td>\n",
       "      <td>77.219792</td>\n",
       "      <td>Rajdhani Thali</td>\n",
       "      <td>28.629999</td>\n",
       "      <td>77.220401</td>\n",
       "      <td>Indian Restaurant</td>\n",
       "    </tr>\n",
       "    <tr>\n",
       "      <th>4</th>\n",
       "      <td>Connaught Place, New Delhi</td>\n",
       "      <td>28.631383</td>\n",
       "      <td>77.219792</td>\n",
       "      <td>Fabindia</td>\n",
       "      <td>28.632012</td>\n",
       "      <td>77.217729</td>\n",
       "      <td>Clothing Store</td>\n",
       "    </tr>\n",
       "  </tbody>\n",
       "</table>\n",
       "</div>"
      ],
      "text/plain": [
       "                 Neighborhood   Latitude  Longitude  \\\n",
       "0  Connaught Place, New Delhi  28.631383  77.219792   \n",
       "1  Connaught Place, New Delhi  28.631383  77.219792   \n",
       "2  Connaught Place, New Delhi  28.631383  77.219792   \n",
       "3  Connaught Place, New Delhi  28.631383  77.219792   \n",
       "4  Connaught Place, New Delhi  28.631383  77.219792   \n",
       "\n",
       "                                            Venue  VLatitude  VLongitude  \\\n",
       "0  Connaught Place | कनॉट प्लेस (Connaught Place)  28.632731   77.220018   \n",
       "1                                       Starbucks  28.632011   77.217731   \n",
       "2                                Jain Chawal Wale  28.630052   77.217649   \n",
       "3                                  Rajdhani Thali  28.629999   77.220401   \n",
       "4                                        Fabindia  28.632012   77.217729   \n",
       "\n",
       "            Category  \n",
       "0              Plaza  \n",
       "1        Coffee Shop  \n",
       "2         Food Truck  \n",
       "3  Indian Restaurant  \n",
       "4     Clothing Store  "
      ]
     },
     "metadata": {},
     "output_type": "display_data"
    },
    {
     "name": "stdout",
     "output_type": "stream",
     "text": [
      "(80, 7)\n"
     ]
    }
   ],
   "source": [
    "display(df_current.head())\n",
    "print(df_current.shape)"
   ]
  },
  {
   "cell_type": "markdown",
   "metadata": {},
   "source": [
    "## Convert current neighborhood venues to categorical variables, add columns which are in KMeans model, drop columns which are not"
   ]
  },
  {
   "cell_type": "code",
   "execution_count": 32,
   "metadata": {},
   "outputs": [],
   "source": [
    "#Create new dataframe of the current neighborhood categorical Variable \n",
    "currentNeigh = pd.get_dummies(df_current[['Category']], prefix=\"\", prefix_sep=\"\")\n",
    "currentNeigh.insert(0, 'Neighborhood', df_current[['Neighborhood']])\n",
    "currentNeigh = currentNeigh.groupby('Neighborhood').mean().reset_index()\n",
    "currentNeigh = currentNeigh.drop('Neighborhood',axis = 1)\n",
    "\n",
    "torontoVenues = list(df_modeldata.columns)\n",
    "currentVenues = list(currentNeigh.columns)\n",
    "\n",
    "dropVenues = [i for i in currentVenues if i not in torontoVenues]\n",
    "addVenues = [i for i in torontoVenues if i not in currentVenues]\n",
    "\n",
    "currentNeigh = currentNeigh.drop(dropVenues,axis = 1)\n",
    "currentNeigh = currentNeigh.join(pd.DataFrame(0, index=currentNeigh.index, columns=addVenues))\n",
    "currentNeigh = currentNeigh.reindex(sorted(currentNeigh.columns), axis=1)"
   ]
  },
  {
   "cell_type": "code",
   "execution_count": 33,
   "metadata": {},
   "outputs": [
    {
     "data": {
      "text/html": [
       "<div>\n",
       "<style scoped>\n",
       "    .dataframe tbody tr th:only-of-type {\n",
       "        vertical-align: middle;\n",
       "    }\n",
       "\n",
       "    .dataframe tbody tr th {\n",
       "        vertical-align: top;\n",
       "    }\n",
       "\n",
       "    .dataframe thead th {\n",
       "        text-align: right;\n",
       "    }\n",
       "</style>\n",
       "<table border=\"1\" class=\"dataframe\">\n",
       "  <thead>\n",
       "    <tr style=\"text-align: right;\">\n",
       "      <th></th>\n",
       "      <th>Accessories Store</th>\n",
       "      <th>Afghan Restaurant</th>\n",
       "      <th>African Restaurant</th>\n",
       "      <th>American Restaurant</th>\n",
       "      <th>Amphitheater</th>\n",
       "      <th>Animal Shelter</th>\n",
       "      <th>Antique Shop</th>\n",
       "      <th>Aquarium</th>\n",
       "      <th>Argentinian Restaurant</th>\n",
       "      <th>Art Gallery</th>\n",
       "      <th>...</th>\n",
       "      <th>Video Game Store</th>\n",
       "      <th>Video Store</th>\n",
       "      <th>Vietnamese Restaurant</th>\n",
       "      <th>Warehouse Store</th>\n",
       "      <th>Wine Bar</th>\n",
       "      <th>Wings Joint</th>\n",
       "      <th>Women's Store</th>\n",
       "      <th>Xinjiang Restaurant</th>\n",
       "      <th>Yoga Studio</th>\n",
       "      <th>Zoo</th>\n",
       "    </tr>\n",
       "  </thead>\n",
       "  <tbody>\n",
       "    <tr>\n",
       "      <th>0</th>\n",
       "      <td>0</td>\n",
       "      <td>0</td>\n",
       "      <td>0</td>\n",
       "      <td>0</td>\n",
       "      <td>0</td>\n",
       "      <td>0</td>\n",
       "      <td>0</td>\n",
       "      <td>0</td>\n",
       "      <td>0</td>\n",
       "      <td>0</td>\n",
       "      <td>...</td>\n",
       "      <td>0</td>\n",
       "      <td>0</td>\n",
       "      <td>0</td>\n",
       "      <td>0</td>\n",
       "      <td>0</td>\n",
       "      <td>0</td>\n",
       "      <td>0.0125</td>\n",
       "      <td>0</td>\n",
       "      <td>0</td>\n",
       "      <td>0</td>\n",
       "    </tr>\n",
       "  </tbody>\n",
       "</table>\n",
       "<p>1 rows × 290 columns</p>\n",
       "</div>"
      ],
      "text/plain": [
       "   Accessories Store  Afghan Restaurant  African Restaurant  \\\n",
       "0                  0                  0                   0   \n",
       "\n",
       "   American Restaurant  Amphitheater  Animal Shelter  Antique Shop  Aquarium  \\\n",
       "0                    0             0               0             0         0   \n",
       "\n",
       "   Argentinian Restaurant  Art Gallery  ...  Video Game Store  Video Store  \\\n",
       "0                       0            0  ...                 0            0   \n",
       "\n",
       "   Vietnamese Restaurant  Warehouse Store  Wine Bar  Wings Joint  \\\n",
       "0                      0                0         0            0   \n",
       "\n",
       "   Women's Store  Xinjiang Restaurant  Yoga Studio  Zoo  \n",
       "0         0.0125                    0            0    0  \n",
       "\n",
       "[1 rows x 290 columns]"
      ]
     },
     "metadata": {},
     "output_type": "display_data"
    },
    {
     "name": "stdout",
     "output_type": "stream",
     "text": [
      "(1, 290)\n"
     ]
    }
   ],
   "source": [
    "display(currentNeigh.head())\n",
    "print(currentNeigh.shape)"
   ]
  },
  {
   "cell_type": "markdown",
   "metadata": {},
   "source": [
    "## Predict cluster and generate similarity score"
   ]
  },
  {
   "cell_type": "code",
   "execution_count": 34,
   "metadata": {},
   "outputs": [
    {
     "name": "stdout",
     "output_type": "stream",
     "text": [
      "This belongs to cluster :  7\n"
     ]
    }
   ],
   "source": [
    "#predict the current neighborhood cluster\n",
    "\n",
    "similarCluster = kNNmodel.predict(currentNeigh.values)[0]\n",
    "print('This belongs to cluster : ', similarCluster)"
   ]
  },
  {
   "cell_type": "code",
   "execution_count": 36,
   "metadata": {},
   "outputs": [],
   "source": [
    "import scipy"
   ]
  },
  {
   "cell_type": "code",
   "execution_count": 37,
   "metadata": {},
   "outputs": [
    {
     "name": "stderr",
     "output_type": "stream",
     "text": [
      "/home/jupyterlab/conda/envs/python/lib/python3.6/site-packages/ipykernel_launcher.py:28: SettingWithCopyWarning: \n",
      "A value is trying to be set on a copy of a slice from a DataFrame.\n",
      "Try using .loc[row_indexer,col_indexer] = value instead\n",
      "\n",
      "See the caveats in the documentation: https://pandas.pydata.org/pandas-docs/stable/user_guide/indexing.html#returning-a-view-versus-a-copy\n"
     ]
    }
   ],
   "source": [
    "#toronto_Df contains the toronto neighborhoods and their venue categorical variables\n",
    "\n",
    "neighborslist = list(df2[df2['Cluster'] == similarCluster]['Neighborhood'])\n",
    "neighbors_df = toronto_df[toronto_df['Neighborhood'].isin(neighborslist)]\n",
    "neighbors_df = neighbors_df.reset_index(drop=True)\n",
    "\n",
    "#create new dataframe to store the neighborhood names which belong to current neighborhood cluster\n",
    "neighbors_names = neighbors_df[['Neighborhood']]\n",
    "\n",
    "#keep only their categorical variables (of same cluster toronto neighborhoods)\n",
    "neighbors_df = neighbors_df.drop('Neighborhood', axis = 1)\n",
    "\n",
    "#find correlation and distance between new neighborhood and in-cluster neighborhoods\n",
    "corr_arr = []\n",
    "dist_arr = []\n",
    "\n",
    "for i in range(len(neighbors_df)):\n",
    "    corr_arr.append((currentNeigh.loc[0,:]).corr(neighbors_df.loc[i,:]))\n",
    "\n",
    "dist_arr = scipy.spatial.distance.cdist(neighbors_df.iloc[:,:], currentNeigh.iloc[0:1,:], metric='euclidean')\n",
    "\n",
    "neighbors_names['Distance'] = dist_arr\n",
    "neighbors_names['Correlation'] = corr_arr\n",
    "\n",
    "#find the correlation between the two dataframes and hence the similarity\n",
    "neighbors_names = neighbors_names.sort_values('Correlation', ascending = False).reset_index(drop = True)\n",
    "top_10 = neighbors_names.head(10)\n",
    "top_10['Similarity'] = top_10['Correlation'].round(2)*100\n",
    "top_10 = top_10.drop('Correlation', axis = 1)"
   ]
  },
  {
   "cell_type": "code",
   "execution_count": 38,
   "metadata": {},
   "outputs": [
    {
     "data": {
      "text/html": [
       "<div>\n",
       "<style scoped>\n",
       "    .dataframe tbody tr th:only-of-type {\n",
       "        vertical-align: middle;\n",
       "    }\n",
       "\n",
       "    .dataframe tbody tr th {\n",
       "        vertical-align: top;\n",
       "    }\n",
       "\n",
       "    .dataframe thead th {\n",
       "        text-align: right;\n",
       "    }\n",
       "</style>\n",
       "<table border=\"1\" class=\"dataframe\">\n",
       "  <thead>\n",
       "    <tr style=\"text-align: right;\">\n",
       "      <th></th>\n",
       "      <th>Neighborhood</th>\n",
       "      <th>Distance</th>\n",
       "      <th>Similarity</th>\n",
       "      <th>Latitude</th>\n",
       "      <th>Longitude</th>\n",
       "    </tr>\n",
       "  </thead>\n",
       "  <tbody>\n",
       "    <tr>\n",
       "      <th>0</th>\n",
       "      <td>India Bazaar, The Beaches West</td>\n",
       "      <td>0.195780</td>\n",
       "      <td>51.0</td>\n",
       "      <td>43.669189</td>\n",
       "      <td>-79.317248</td>\n",
       "    </tr>\n",
       "    <tr>\n",
       "      <th>1</th>\n",
       "      <td>Hillcrest Village</td>\n",
       "      <td>0.210850</td>\n",
       "      <td>41.0</td>\n",
       "      <td>43.681695</td>\n",
       "      <td>-79.425712</td>\n",
       "    </tr>\n",
       "    <tr>\n",
       "      <th>2</th>\n",
       "      <td>Humewood-Cedarvale</td>\n",
       "      <td>0.219908</td>\n",
       "      <td>38.0</td>\n",
       "      <td>43.688322</td>\n",
       "      <td>-79.428080</td>\n",
       "    </tr>\n",
       "    <tr>\n",
       "      <th>3</th>\n",
       "      <td>High Park, The Junction South</td>\n",
       "      <td>0.225607</td>\n",
       "      <td>35.0</td>\n",
       "      <td>43.653867</td>\n",
       "      <td>-79.466864</td>\n",
       "    </tr>\n",
       "    <tr>\n",
       "      <th>4</th>\n",
       "      <td>Leaside</td>\n",
       "      <td>0.234854</td>\n",
       "      <td>35.0</td>\n",
       "      <td>43.704798</td>\n",
       "      <td>-79.368090</td>\n",
       "    </tr>\n",
       "    <tr>\n",
       "      <th>5</th>\n",
       "      <td>Thorncliffe Park</td>\n",
       "      <td>0.259389</td>\n",
       "      <td>32.0</td>\n",
       "      <td>43.704553</td>\n",
       "      <td>-79.345407</td>\n",
       "    </tr>\n",
       "    <tr>\n",
       "      <th>6</th>\n",
       "      <td>Victoria Village</td>\n",
       "      <td>0.309330</td>\n",
       "      <td>21.0</td>\n",
       "      <td>43.732658</td>\n",
       "      <td>-79.311189</td>\n",
       "    </tr>\n",
       "    <tr>\n",
       "      <th>7</th>\n",
       "      <td>Westmount</td>\n",
       "      <td>0.269337</td>\n",
       "      <td>21.0</td>\n",
       "      <td>43.693640</td>\n",
       "      <td>-79.521043</td>\n",
       "    </tr>\n",
       "    <tr>\n",
       "      <th>8</th>\n",
       "      <td>Lawrence Park</td>\n",
       "      <td>0.253394</td>\n",
       "      <td>19.0</td>\n",
       "      <td>43.729199</td>\n",
       "      <td>-79.403252</td>\n",
       "    </tr>\n",
       "    <tr>\n",
       "      <th>9</th>\n",
       "      <td>Woodbine Heights</td>\n",
       "      <td>0.294006</td>\n",
       "      <td>10.0</td>\n",
       "      <td>43.699920</td>\n",
       "      <td>-79.319279</td>\n",
       "    </tr>\n",
       "  </tbody>\n",
       "</table>\n",
       "</div>"
      ],
      "text/plain": [
       "                     Neighborhood  Distance  Similarity   Latitude  Longitude\n",
       "0  India Bazaar, The Beaches West  0.195780        51.0  43.669189 -79.317248\n",
       "1               Hillcrest Village  0.210850        41.0  43.681695 -79.425712\n",
       "2              Humewood-Cedarvale  0.219908        38.0  43.688322 -79.428080\n",
       "3   High Park, The Junction South  0.225607        35.0  43.653867 -79.466864\n",
       "4                         Leaside  0.234854        35.0  43.704798 -79.368090\n",
       "5                Thorncliffe Park  0.259389        32.0  43.704553 -79.345407\n",
       "6                Victoria Village  0.309330        21.0  43.732658 -79.311189\n",
       "7                       Westmount  0.269337        21.0  43.693640 -79.521043\n",
       "8                   Lawrence Park  0.253394        19.0  43.729199 -79.403252\n",
       "9                Woodbine Heights  0.294006        10.0  43.699920 -79.319279"
      ]
     },
     "metadata": {},
     "output_type": "display_data"
    }
   ],
   "source": [
    "#get the top 10 similar neighborhoods and their coordinates\n",
    "top_10 = (pd.merge(left=top_10, right=df2[['Neighborhood', 'Latitude', 'Longitude']], how='left', left_on='Neighborhood', right_on='Neighborhood')).head(10)\n",
    "display(top_10)"
   ]
  },
  {
   "cell_type": "code",
   "execution_count": 39,
   "metadata": {},
   "outputs": [
    {
     "data": {
      "text/plain": [
       "<folium.features.CircleMarker at 0x7ff487bad3c8>"
      ]
     },
     "execution_count": 39,
     "metadata": {},
     "output_type": "execute_result"
    }
   ],
   "source": [
    "\n",
    "#Plot current neighborhood on map\n",
    "\n",
    "curMap = folium.Map(location = locationCurrent, zoom_start = 12)\n",
    "folium.Circle(\n",
    "    locationCurrent,\n",
    "    radius = 1000,\n",
    "    color = '#ffd633',\n",
    "    opacity = 0.2,\n",
    "    fill_color = '#ffd633',\n",
    "    fill_opacity = 0.2,\n",
    "    ).add_to(curMap)\n",
    "\n",
    "folium.CircleMarker(\n",
    "    locationCurrent,\n",
    "    radius=5,\n",
    "    popup=currentNeighName,\n",
    "    color = '#ff3333',\n",
    "    fill_color = '#ff3333',\n",
    "    fill_opacity = 1,\n",
    "    parse_html=False\n",
    "    ).add_to(curMap)\n",
    "\n",
    "#Map displayed later"
   ]
  },
  {
   "cell_type": "code",
   "execution_count": 40,
   "metadata": {},
   "outputs": [],
   "source": [
    "#PLOT the top 10 neighborhoods on map\n",
    "\n",
    "top10_map = folium.Map(location = locationToronto, zoom_start = 10)\n",
    "color10 = randomColor()\n",
    "\n",
    "for neigh, sim, lat, long in zip(top_10['Neighborhood'], top_10['Similarity'], top_10['Latitude'], top_10['Longitude']):\n",
    "    label = '{} %, {}'.format(sim, neigh)\n",
    "    \n",
    "    folium.CircleMarker(\n",
    "        [lat, long],\n",
    "        radius=5,\n",
    "        popup=label,\n",
    "        color = '#FFFFFF',\n",
    "        weight = 2,\n",
    "        fill_color = color10,\n",
    "        fill_opacity = 1,\n",
    "        parse_html=False).add_to(top10_map)\n",
    "\n",
    "#Map displayed later"
   ]
  },
  {
   "cell_type": "markdown",
   "metadata": {},
   "source": [
    "## Plot maps and graphs"
   ]
  },
  {
   "cell_type": "code",
   "execution_count": 57,
   "metadata": {},
   "outputs": [
    {
     "data": {
      "text/html": [
       "<div style=\"width:100%;\"><div style=\"position:relative;width:100%;height:0;padding-bottom:60%;\"><span style=\"color:#565656\">Make this Notebook Trusted to load map: File -> Trust Notebook</span><iframe src=\"about:blank\" style=\"position:absolute;width:100%;height:100%;left:0;top:0;border:none !important;\" data-html=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 onload=\"this.contentDocument.open();this.contentDocument.write(atob(this.getAttribute('data-html')));this.contentDocument.close();\" allowfullscreen webkitallowfullscreen mozallowfullscreen></iframe></div></div>"
      ],
      "text/plain": [
       "<folium.folium.Map at 0x7ff487ba33c8>"
      ]
     },
     "metadata": {},
     "output_type": "display_data"
    }
   ],
   "source": [
    "#plot the current Neighborhood\n",
    "display(curMap)"
   ]
  },
  {
   "cell_type": "code",
   "execution_count": 56,
   "metadata": {},
   "outputs": [
    {
     "data": {
      "text/html": [
       "<div style=\"width:100%;\"><div style=\"position:relative;width:100%;height:0;padding-bottom:60%;\"><span style=\"color:#565656\">Make this Notebook Trusted to load map: File -> Trust Notebook</span><iframe src=\"about:blank\" style=\"position:absolute;width:100%;height:100%;left:0;top:0;border:none !important;\" data-html=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 onload=\"this.contentDocument.open();this.contentDocument.write(atob(this.getAttribute('data-html')));this.contentDocument.close();\" allowfullscreen webkitallowfullscreen mozallowfullscreen></iframe></div></div>"
      ],
      "text/plain": [
       "<folium.folium.Map at 0x7ff49777f3c8>"
      ]
     },
     "metadata": {},
     "output_type": "display_data"
    }
   ],
   "source": [
    "#plot the neighborhoods and a 1km radius around them\n",
    "display(map_Toronto)"
   ]
  },
  {
   "cell_type": "code",
   "execution_count": 55,
   "metadata": {},
   "outputs": [
    {
     "data": {
      "text/html": [
       "<div style=\"width:100%;\"><div style=\"position:relative;width:100%;height:0;padding-bottom:60%;\"><span style=\"color:#565656\">Make this Notebook Trusted to load map: File -> Trust Notebook</span><iframe src=\"about:blank\" style=\"position:absolute;width:100%;height:100%;left:0;top:0;border:none !important;\" data-html=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 onload=\"this.contentDocument.open();this.contentDocument.write(atob(this.getAttribute('data-html')));this.contentDocument.close();\" allowfullscreen webkitallowfullscreen mozallowfullscreen></iframe></div></div>"
      ],
      "text/plain": [
       "<folium.folium.Map at 0x7ff497625cc0>"
      ]
     },
     "metadata": {},
     "output_type": "display_data"
    }
   ],
   "source": [
    "#plot the clusters on the map of toronto\n",
    "display(clusters_map)"
   ]
  },
  {
   "cell_type": "code",
   "execution_count": 58,
   "metadata": {},
   "outputs": [
    {
     "data": {
      "text/html": [
       "<div style=\"width:100%;\"><div style=\"position:relative;width:100%;height:0;padding-bottom:60%;\"><span style=\"color:#565656\">Make this Notebook Trusted to load map: File -> Trust Notebook</span><iframe src=\"about:blank\" style=\"position:absolute;width:100%;height:100%;left:0;top:0;border:none !important;\" data-html=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 onload=\"this.contentDocument.open();this.contentDocument.write(atob(this.getAttribute('data-html')));this.contentDocument.close();\" allowfullscreen webkitallowfullscreen mozallowfullscreen></iframe></div></div>"
      ],
      "text/plain": [
       "<folium.folium.Map at 0x7ff4975b1240>"
      ]
     },
     "metadata": {},
     "output_type": "display_data"
    }
   ],
   "source": [
    "#Plot the top 10 similar neighborhoods non map\n",
    "display(top10_map)"
   ]
  },
  {
   "cell_type": "code",
   "execution_count": 45,
   "metadata": {},
   "outputs": [
    {
     "data": {
      "image/png": "[encoded data removed]",
      "text/plain": [
       "<Figure size 720x432 with 1 Axes>"
      ]
     },
     "metadata": {
      "needs_background": "light"
     },
     "output_type": "display_data"
    }
   ],
   "source": [
    "#the top 10 similar neighborhoods on bar plot\n",
    "\n",
    "top_10.plot(kind = 'bar', x='Neighborhood', y= 'Similarity', figsize=  (10,6))\n",
    "plt.title('Top 10 most similar places to current neighborhood ')\n",
    "plt.xlabel('Neighborhood in Toronto')\n",
    "plt.ylabel('Similarity Score in %')\n",
    "plt.ylim(0,100)\n",
    "plt.show()"
   ]
  },
  {
   "cell_type": "code",
   "execution_count": 48,
   "metadata": {},
   "outputs": [
    {
     "data": {
      "image/png": "[encoded data removed]",
      "text/plain": [
       "<Figure size 720x432 with 1 Axes>"
      ]
     },
     "metadata": {
      "needs_background": "light"
     },
     "output_type": "display_data"
    }
   ],
   "source": [
    "#cluster wise neighborhood distribution in toronto, bar plot\n",
    "\n",
    "df2['Cluster'].value_counts().plot(kind = 'bar', stacked = True, color = colors, figsize = (10,6))\n",
    "plt.title('Neighborhoods in each Cluster')\n",
    "plt.xlabel('Cluster')\n",
    "plt.ylabel('Number of hoods')\n",
    "plt.grid(color = '#EEEEEE')\n",
    "plt.show()"
   ]
  },
  {
   "cell_type": "code",
   "execution_count": 49,
   "metadata": {},
   "outputs": [
    {
     "data": {
      "image/png": "[encoded data removed]",
      "text/plain": [
       "<Figure size 720x432 with 1 Axes>"
      ]
     },
     "metadata": {
      "needs_background": "light"
     },
     "output_type": "display_data"
    }
   ],
   "source": [
    "#most popular venues in toronto, bar plot\n",
    "\n",
    "df3['Category'].value_counts()[0:10].plot(kind = 'barh', stacked = True, figsize = (10,6))\n",
    "plt.title('Top 10 venue categories in Toronto')\n",
    "plt.xlabel('Total in category')\n",
    "plt.ylabel('Category')\n",
    "plt.grid(color = '#EEEEEE')\n",
    "plt.show()"
   ]
  },
  {
   "cell_type": "code",
   "execution_count": 51,
   "metadata": {},
   "outputs": [
    {
     "data": {
      "image/png": "[encoded data removed]",
      "text/plain": [
       "<Figure size 720x432 with 1 Axes>"
      ]
     },
     "metadata": {
      "needs_background": "light"
     },
     "output_type": "display_data"
    }
   ],
   "source": [
    "#least crowded neighborhoods in toronto\n",
    "\n",
    "df3['Neighborhood'].value_counts()[-11:-1].plot(kind = 'barh', stacked = True, figsize = (10,6))\n",
    "plt.title('Top 10 least crowded neighborhoods')\n",
    "plt.xlabel('Total venues in each neighorhood')\n",
    "plt.ylabel('Neighborhood')\n",
    "plt.grid(color = '#EEEEEE')\n",
    "plt.show()\n",
    "\n",
    "#cannot show most crowded as forsquare only returns 100 venues"
   ]
  },
  {
   "cell_type": "code",
   "execution_count": 52,
   "metadata": {},
   "outputs": [
    {
     "data": {
      "image/png": "[encoded data removed]",
      "text/plain": [
       "<Figure size 720x432 with 1 Axes>"
      ]
     },
     "metadata": {
      "needs_background": "light"
     },
     "output_type": "display_data"
    }
   ],
   "source": [
    "#most crowded neighborhoods in toronto\n",
    "#foursquare only allows to retrieve top 100 venues\n",
    "\n",
    "df3['Neighborhood'].value_counts()[0:10].plot(kind = 'barh', stacked = True, figsize = (10,6))\n",
    "plt.title('Top 10 most crowded neighborhoods')\n",
    "plt.xlabel('Total venues in each neighorhood')\n",
    "plt.ylabel('Neighborhood')\n",
    "plt.grid(color = '#EEEEEE')\n",
    "plt.show()"
   ]
  },
  {
   "cell_type": "code",
   "execution_count": 53,
   "metadata": {},
   "outputs": [
    {
     "data": {
      "text/html": [
       "<div>\n",
       "<style scoped>\n",
       "    .dataframe tbody tr th:only-of-type {\n",
       "        vertical-align: middle;\n",
       "    }\n",
       "\n",
       "    .dataframe tbody tr th {\n",
       "        vertical-align: top;\n",
       "    }\n",
       "\n",
       "    .dataframe thead th {\n",
       "        text-align: right;\n",
       "    }\n",
       "</style>\n",
       "<table border=\"1\" class=\"dataframe\">\n",
       "  <thead>\n",
       "    <tr style=\"text-align: right;\">\n",
       "      <th></th>\n",
       "      <th>Neighborhood</th>\n",
       "      <th>Distance</th>\n",
       "      <th>Similarity</th>\n",
       "    </tr>\n",
       "  </thead>\n",
       "  <tbody>\n",
       "    <tr>\n",
       "      <th>0</th>\n",
       "      <td>India Bazaar, The Beaches West</td>\n",
       "      <td>0.195780</td>\n",
       "      <td>51.0</td>\n",
       "    </tr>\n",
       "    <tr>\n",
       "      <th>1</th>\n",
       "      <td>Hillcrest Village</td>\n",
       "      <td>0.210850</td>\n",
       "      <td>41.0</td>\n",
       "    </tr>\n",
       "    <tr>\n",
       "      <th>2</th>\n",
       "      <td>Humewood-Cedarvale</td>\n",
       "      <td>0.219908</td>\n",
       "      <td>38.0</td>\n",
       "    </tr>\n",
       "    <tr>\n",
       "      <th>3</th>\n",
       "      <td>High Park, The Junction South</td>\n",
       "      <td>0.225607</td>\n",
       "      <td>35.0</td>\n",
       "    </tr>\n",
       "    <tr>\n",
       "      <th>4</th>\n",
       "      <td>Leaside</td>\n",
       "      <td>0.234854</td>\n",
       "      <td>35.0</td>\n",
       "    </tr>\n",
       "    <tr>\n",
       "      <th>5</th>\n",
       "      <td>Thorncliffe Park</td>\n",
       "      <td>0.259389</td>\n",
       "      <td>32.0</td>\n",
       "    </tr>\n",
       "    <tr>\n",
       "      <th>6</th>\n",
       "      <td>Victoria Village</td>\n",
       "      <td>0.309330</td>\n",
       "      <td>21.0</td>\n",
       "    </tr>\n",
       "    <tr>\n",
       "      <th>7</th>\n",
       "      <td>Westmount</td>\n",
       "      <td>0.269337</td>\n",
       "      <td>21.0</td>\n",
       "    </tr>\n",
       "    <tr>\n",
       "      <th>8</th>\n",
       "      <td>Lawrence Park</td>\n",
       "      <td>0.253394</td>\n",
       "      <td>19.0</td>\n",
       "    </tr>\n",
       "    <tr>\n",
       "      <th>9</th>\n",
       "      <td>Woodbine Heights</td>\n",
       "      <td>0.294006</td>\n",
       "      <td>10.0</td>\n",
       "    </tr>\n",
       "  </tbody>\n",
       "</table>\n",
       "</div>"
      ],
      "text/plain": [
       "                     Neighborhood  Distance  Similarity\n",
       "0  India Bazaar, The Beaches West  0.195780        51.0\n",
       "1               Hillcrest Village  0.210850        41.0\n",
       "2              Humewood-Cedarvale  0.219908        38.0\n",
       "3   High Park, The Junction South  0.225607        35.0\n",
       "4                         Leaside  0.234854        35.0\n",
       "5                Thorncliffe Park  0.259389        32.0\n",
       "6                Victoria Village  0.309330        21.0\n",
       "7                       Westmount  0.269337        21.0\n",
       "8                   Lawrence Park  0.253394        19.0\n",
       "9                Woodbine Heights  0.294006        10.0"
      ]
     },
     "execution_count": 53,
     "metadata": {},
     "output_type": "execute_result"
    }
   ],
   "source": [
    "\n",
    "top_10.iloc[:,0:-2]"
   ]
  },
  {
   "cell_type": "code",
   "execution_count": null,
   "metadata": {},
   "outputs": [],
   "source": []
  }
 ],
 "metadata": {
  "kernelspec": {
   "display_name": "Python",
   "language": "python",
   "name": "conda-env-python-py"
  },
  "language_info": {
   "codemirror_mode": {
    "name": "ipython",
    "version": 3
   },
   "file_extension": ".py",
   "mimetype": "text/x-python",
   "name": "python",
   "nbconvert_exporter": "python",
   "pygments_lexer": "ipython3",
   "version": "3.6.11"
  }
 },
 "nbformat": 4,
 "nbformat_minor": 4
}
